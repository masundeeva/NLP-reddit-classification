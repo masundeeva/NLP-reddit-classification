{
 "cells": [
  {
   "cell_type": "markdown",
   "id": "fa53eecd-53c7-45d9-b64c-131cfba99b99",
   "metadata": {},
   "source": [
    "### Data Cleaning and EDA: time"
   ]
  },
  {
   "cell_type": "code",
   "execution_count": 1,
   "id": "2c1c628f-2e33-488a-a8ae-54eddcbed6ff",
   "metadata": {},
   "outputs": [],
   "source": [
    "# Libraries import\n",
    "import pandas as pd\n",
    "import matplotlib.pyplot as plt\n",
    "import numpy as np\n",
    "import seaborn as sns\n",
    "\n",
    "import re"
   ]
  },
  {
   "cell_type": "code",
   "execution_count": 2,
   "id": "8d082f15-d0d9-4d53-9a12-38019bd11cf6",
   "metadata": {},
   "outputs": [],
   "source": [
    "# Looking at downloaded posts timelines and intensity\n",
    "dm = pd.read_csv('./data/DunderMifflin_df_original.csv')\n",
    "of = pd.read_csv('./data/office_df_original.csv')"
   ]
  },
  {
   "cell_type": "code",
   "execution_count": 3,
   "id": "b49d6b9b-0a4b-4344-b1d9-90a01bce5c99",
   "metadata": {},
   "outputs": [
    {
     "data": {
      "text/html": [
       "<div>\n",
       "<style scoped>\n",
       "    .dataframe tbody tr th:only-of-type {\n",
       "        vertical-align: middle;\n",
       "    }\n",
       "\n",
       "    .dataframe tbody tr th {\n",
       "        vertical-align: top;\n",
       "    }\n",
       "\n",
       "    .dataframe thead th {\n",
       "        text-align: right;\n",
       "    }\n",
       "</style>\n",
       "<table border=\"1\" class=\"dataframe\">\n",
       "  <thead>\n",
       "    <tr style=\"text-align: right;\">\n",
       "      <th></th>\n",
       "      <th>title</th>\n",
       "      <th>selftext</th>\n",
       "      <th>author</th>\n",
       "      <th>id</th>\n",
       "      <th>score</th>\n",
       "      <th>comments</th>\n",
       "      <th>link</th>\n",
       "      <th>subreddit</th>\n",
       "      <th>created</th>\n",
       "    </tr>\n",
       "  </thead>\n",
       "  <tbody>\n",
       "    <tr>\n",
       "      <th>0</th>\n",
       "      <td>the boss makes sure that everyone feels includ...</td>\n",
       "      <td>NaN</td>\n",
       "      <td>DwightScott69</td>\n",
       "      <td>10d616x</td>\n",
       "      <td>4</td>\n",
       "      <td>0</td>\n",
       "      <td>https://i.redd.it/6fvo0i87tdca1.jpg</td>\n",
       "      <td>DunderMifflin</td>\n",
       "      <td>1.673847e+09</td>\n",
       "    </tr>\n",
       "    <tr>\n",
       "      <th>1</th>\n",
       "      <td>Today, let us NOT forget the words of the Reve...</td>\n",
       "      <td>NaN</td>\n",
       "      <td>Trick_Listen</td>\n",
       "      <td>10d5pb9</td>\n",
       "      <td>2</td>\n",
       "      <td>2</td>\n",
       "      <td>https://i.redd.it/makfdif2qdca1.jpg</td>\n",
       "      <td>DunderMifflin</td>\n",
       "      <td>1.673846e+09</td>\n",
       "    </tr>\n",
       "    <tr>\n",
       "      <th>2</th>\n",
       "      <td>Why did Michael’s half-sister cut him off from...</td>\n",
       "      <td>NaN</td>\n",
       "      <td>Worthy_Planet375</td>\n",
       "      <td>10d5krh</td>\n",
       "      <td>4</td>\n",
       "      <td>8</td>\n",
       "      <td>https://i.redd.it/lgpg18i0pdca1.jpg</td>\n",
       "      <td>DunderMifflin</td>\n",
       "      <td>1.673845e+09</td>\n",
       "    </tr>\n",
       "    <tr>\n",
       "      <th>3</th>\n",
       "      <td>Besides Jim and Dwight, who are your favorite ...</td>\n",
       "      <td>Michael and Toby\\nPam and Ryan\\nAngela and Phy...</td>\n",
       "      <td>Cool_Value1204</td>\n",
       "      <td>10d5501</td>\n",
       "      <td>0</td>\n",
       "      <td>10</td>\n",
       "      <td>https://www.reddit.com/r/DunderMifflin/comment...</td>\n",
       "      <td>DunderMifflin</td>\n",
       "      <td>1.673844e+09</td>\n",
       "    </tr>\n",
       "    <tr>\n",
       "      <th>4</th>\n",
       "      <td>In case you haven’t noticed…</td>\n",
       "      <td>NaN</td>\n",
       "      <td>CallingYouForMoney</td>\n",
       "      <td>10d52fp</td>\n",
       "      <td>14</td>\n",
       "      <td>2</td>\n",
       "      <td>https://www.reddit.com/gallery/10d52fp</td>\n",
       "      <td>DunderMifflin</td>\n",
       "      <td>1.673844e+09</td>\n",
       "    </tr>\n",
       "  </tbody>\n",
       "</table>\n",
       "</div>"
      ],
      "text/plain": [
       "                                               title  \\\n",
       "0  the boss makes sure that everyone feels includ...   \n",
       "1  Today, let us NOT forget the words of the Reve...   \n",
       "2  Why did Michael’s half-sister cut him off from...   \n",
       "3  Besides Jim and Dwight, who are your favorite ...   \n",
       "4                       In case you haven’t noticed…   \n",
       "\n",
       "                                            selftext              author  \\\n",
       "0                                                NaN       DwightScott69   \n",
       "1                                                NaN        Trick_Listen   \n",
       "2                                                NaN    Worthy_Planet375   \n",
       "3  Michael and Toby\\nPam and Ryan\\nAngela and Phy...      Cool_Value1204   \n",
       "4                                                NaN  CallingYouForMoney   \n",
       "\n",
       "        id  score  comments  \\\n",
       "0  10d616x      4         0   \n",
       "1  10d5pb9      2         2   \n",
       "2  10d5krh      4         8   \n",
       "3  10d5501      0        10   \n",
       "4  10d52fp     14         2   \n",
       "\n",
       "                                                link      subreddit  \\\n",
       "0                https://i.redd.it/6fvo0i87tdca1.jpg  DunderMifflin   \n",
       "1                https://i.redd.it/makfdif2qdca1.jpg  DunderMifflin   \n",
       "2                https://i.redd.it/lgpg18i0pdca1.jpg  DunderMifflin   \n",
       "3  https://www.reddit.com/r/DunderMifflin/comment...  DunderMifflin   \n",
       "4             https://www.reddit.com/gallery/10d52fp  DunderMifflin   \n",
       "\n",
       "        created  \n",
       "0  1.673847e+09  \n",
       "1  1.673846e+09  \n",
       "2  1.673845e+09  \n",
       "3  1.673844e+09  \n",
       "4  1.673844e+09  "
      ]
     },
     "execution_count": 3,
     "metadata": {},
     "output_type": "execute_result"
    }
   ],
   "source": [
    "dm.head()"
   ]
  },
  {
   "cell_type": "code",
   "execution_count": 4,
   "id": "356e5a66-6e14-49a0-b92d-6bd1100a59f6",
   "metadata": {},
   "outputs": [
    {
     "data": {
      "text/html": [
       "<div>\n",
       "<style scoped>\n",
       "    .dataframe tbody tr th:only-of-type {\n",
       "        vertical-align: middle;\n",
       "    }\n",
       "\n",
       "    .dataframe tbody tr th {\n",
       "        vertical-align: top;\n",
       "    }\n",
       "\n",
       "    .dataframe thead th {\n",
       "        text-align: right;\n",
       "    }\n",
       "</style>\n",
       "<table border=\"1\" class=\"dataframe\">\n",
       "  <thead>\n",
       "    <tr style=\"text-align: right;\">\n",
       "      <th></th>\n",
       "      <th>title</th>\n",
       "      <th>selftext</th>\n",
       "      <th>author</th>\n",
       "      <th>id</th>\n",
       "      <th>score</th>\n",
       "      <th>comments</th>\n",
       "      <th>link</th>\n",
       "      <th>subreddit</th>\n",
       "      <th>created</th>\n",
       "    </tr>\n",
       "  </thead>\n",
       "  <tbody>\n",
       "    <tr>\n",
       "      <th>0</th>\n",
       "      <td>Friend or just a colleague</td>\n",
       "      <td>Hi is it just my colleagues that are toxic and...</td>\n",
       "      <td>Sadvibesonly96</td>\n",
       "      <td>10cphg1</td>\n",
       "      <td>1</td>\n",
       "      <td>0</td>\n",
       "      <td>https://www.reddit.com/r/office/comments/10cph...</td>\n",
       "      <td>office</td>\n",
       "      <td>1.673804e+09</td>\n",
       "    </tr>\n",
       "    <tr>\n",
       "      <th>1</th>\n",
       "      <td>Printer systems</td>\n",
       "      <td>Good morning. \\n\\nI'm looking for a no-frills ...</td>\n",
       "      <td>mortsmad</td>\n",
       "      <td>10bp8rr</td>\n",
       "      <td>1</td>\n",
       "      <td>0</td>\n",
       "      <td>https://www.reddit.com/r/office/comments/10bp8...</td>\n",
       "      <td>office</td>\n",
       "      <td>1.673705e+09</td>\n",
       "    </tr>\n",
       "    <tr>\n",
       "      <th>2</th>\n",
       "      <td>What Would You Do?</td>\n",
       "      <td>Hello everyone!\\n\\nFirst time posting here.\\nI...</td>\n",
       "      <td>cherrydolewhip</td>\n",
       "      <td>10bkedf</td>\n",
       "      <td>1</td>\n",
       "      <td>4</td>\n",
       "      <td>https://www.reddit.com/r/office/comments/10bke...</td>\n",
       "      <td>office</td>\n",
       "      <td>1.673688e+09</td>\n",
       "    </tr>\n",
       "    <tr>\n",
       "      <th>3</th>\n",
       "      <td>attention yo!</td>\n",
       "      <td>I don't want to go to office for a day and the...</td>\n",
       "      <td>Cynthia_OMO</td>\n",
       "      <td>10bjk5p</td>\n",
       "      <td>1</td>\n",
       "      <td>0</td>\n",
       "      <td>https://www.reddit.com/r/office/comments/10bjk...</td>\n",
       "      <td>office</td>\n",
       "      <td>1.673685e+09</td>\n",
       "    </tr>\n",
       "    <tr>\n",
       "      <th>4</th>\n",
       "      <td>Do you have any office-related wisdom to share...</td>\n",
       "      <td>Hey guys,\\n\\nI am a young 23M who last year th...</td>\n",
       "      <td>AssSpelunker69</td>\n",
       "      <td>10bd0fx</td>\n",
       "      <td>1</td>\n",
       "      <td>13</td>\n",
       "      <td>https://www.reddit.com/r/office/comments/10bd0...</td>\n",
       "      <td>office</td>\n",
       "      <td>1.673663e+09</td>\n",
       "    </tr>\n",
       "  </tbody>\n",
       "</table>\n",
       "</div>"
      ],
      "text/plain": [
       "                                               title  \\\n",
       "0                         Friend or just a colleague   \n",
       "1                                    Printer systems   \n",
       "2                                 What Would You Do?   \n",
       "3                                      attention yo!   \n",
       "4  Do you have any office-related wisdom to share...   \n",
       "\n",
       "                                            selftext          author       id  \\\n",
       "0  Hi is it just my colleagues that are toxic and...  Sadvibesonly96  10cphg1   \n",
       "1  Good morning. \\n\\nI'm looking for a no-frills ...        mortsmad  10bp8rr   \n",
       "2  Hello everyone!\\n\\nFirst time posting here.\\nI...  cherrydolewhip  10bkedf   \n",
       "3  I don't want to go to office for a day and the...     Cynthia_OMO  10bjk5p   \n",
       "4  Hey guys,\\n\\nI am a young 23M who last year th...  AssSpelunker69  10bd0fx   \n",
       "\n",
       "   score  comments                                               link  \\\n",
       "0      1         0  https://www.reddit.com/r/office/comments/10cph...   \n",
       "1      1         0  https://www.reddit.com/r/office/comments/10bp8...   \n",
       "2      1         4  https://www.reddit.com/r/office/comments/10bke...   \n",
       "3      1         0  https://www.reddit.com/r/office/comments/10bjk...   \n",
       "4      1        13  https://www.reddit.com/r/office/comments/10bd0...   \n",
       "\n",
       "  subreddit       created  \n",
       "0    office  1.673804e+09  \n",
       "1    office  1.673705e+09  \n",
       "2    office  1.673688e+09  \n",
       "3    office  1.673685e+09  \n",
       "4    office  1.673663e+09  "
      ]
     },
     "execution_count": 4,
     "metadata": {},
     "output_type": "execute_result"
    }
   ],
   "source": [
    "of.head()"
   ]
  },
  {
   "cell_type": "code",
   "execution_count": 5,
   "id": "e30fbf44-755e-4ec6-a800-0fe3f6d5574b",
   "metadata": {},
   "outputs": [],
   "source": [
    "# Converting epoch column to datetime format\n",
    "dm['created'] = dm['created'].astype(int)\n",
    "of['created'] = of['created'].astype(int)\n",
    "dm['created'] = pd.to_datetime(dm['created'], unit='s') # UNIX time might be in seconds, milliseconds, microseconds and nanoseconds, so we have to specify units as seconds\n",
    "of['created'] = pd.to_datetime(of['created'], unit='s')"
   ]
  },
  {
   "cell_type": "code",
   "execution_count": 6,
   "id": "01366972-df39-463f-966f-9e384e3852da",
   "metadata": {},
   "outputs": [],
   "source": [
    "# Saving colors to variables\n",
    "c1 = '#BE3455'\n",
    "c2 = '#34BE9D'"
   ]
  },
  {
   "cell_type": "code",
   "execution_count": 7,
   "id": "33014fa8-8222-4f6e-91e9-e0f5b2cdf791",
   "metadata": {},
   "outputs": [
    {
     "data": {
      "image/png": "[encoded data removed]",
      "text/plain": [
       "<Figure size 1872x288 with 2 Axes>"
      ]
     },
     "metadata": {
      "needs_background": "light"
     },
     "output_type": "display_data"
    }
   ],
   "source": [
    "# Plotting subreddits posts timelines and density\n",
    "fig, (ax1, ax2) = plt.subplots(nrows = 2, figsize=(26,4), sharex=True)\n",
    "\n",
    "sns.regplot(x=of['created'], y=of['subreddit'], marker = '|', fit_reg=False, scatter_kws={'color':c2,'alpha':0.3,'s':1000}, ax = ax1) # plotting r/office timeline\n",
    "sns.regplot(x=dm['created'], y=dm['subreddit'], marker = '|', fit_reg=False, scatter_kws={'color':c1,'alpha':0.1,'s':1000}, ax = ax2) # plotting DunderMifflin timeline\n",
    "\n",
    "ax1.set(xlabel='',ylabel='', title = 'r/office', yticklabels='') # formatting r/office subplot\n",
    "ax2.set(xlabel='',ylabel='', title = 'r/DunderMifflin', yticklabels='') # formatting r/DunderMifflin subplot\n",
    "\n",
    "plt.savefig('./images/posts_density.png', dpi = 100); # saving plot"
   ]
  },
  {
   "cell_type": "code",
   "execution_count": 8,
   "id": "e52b7d81-723d-45cb-a245-b1cba6c7dd61",
   "metadata": {},
   "outputs": [
    {
     "data": {
      "image/png": "[encoded data removed]",
      "text/plain": [
       "<Figure size 1872x144 with 1 Axes>"
      ]
     },
     "metadata": {
      "needs_background": "light"
     },
     "output_type": "display_data"
    }
   ],
   "source": [
    "# Looking at DunderMifflin posts density closer\n",
    "plt.figure(figsize = (26, 2)) # canvas\n",
    "sns.regplot(x=dm['created'], y=dm['subreddit'], marker = '|', fit_reg=False, scatter_kws={'color':c1,'alpha':0.2,'s':1000}) # plotting\n",
    "plt.title('r/DunderMifflin') # title name and font\n",
    "plt.tick_params(labelleft = False, left = False) # removing x axis ticks and label\n",
    "plt.xlabel('') # removing x axis label\n",
    "plt.ylabel('') # removing y axis label\n",
    "plt.savefig('./images/DunderMifflin_posts_density.png', dpi = 100); # saving plot"
   ]
  },
  {
   "cell_type": "markdown",
   "id": "77edc819-4349-4b66-9cbe-69da40a86935",
   "metadata": {},
   "source": [
    "Charts above show that two subreddits differ in time ranges of posts used in this project. It's intentional to reach a relatively similar number of posts to feed into classification models. Also, after plotting timeseries of posts, I've found an interesting detail: r/office subreddit became active only in the summer of 2021. I'm wondering if it's related to the fact that people stopped working from home around that time. "
   ]
  },
  {
   "cell_type": "markdown",
   "id": "688c2e91-34a6-4685-a50a-a478906115e3",
   "metadata": {},
   "source": [
    "### EDA: other attributes"
   ]
  },
  {
   "cell_type": "code",
   "execution_count": 9,
   "id": "3f9a2986-22e8-4761-838c-dcd648312ed4",
   "metadata": {},
   "outputs": [
    {
     "data": {
      "text/plain": [
       "(993, 9)"
      ]
     },
     "execution_count": 9,
     "metadata": {},
     "output_type": "execute_result"
    }
   ],
   "source": [
    "dm.shape"
   ]
  },
  {
   "cell_type": "code",
   "execution_count": 10,
   "id": "4d3cdc97-cdda-4ae7-a1db-3f16f8a637ac",
   "metadata": {},
   "outputs": [
    {
     "data": {
      "text/plain": [
       "(793, 9)"
      ]
     },
     "execution_count": 10,
     "metadata": {},
     "output_type": "execute_result"
    }
   ],
   "source": [
    "of.shape"
   ]
  },
  {
   "cell_type": "code",
   "execution_count": 11,
   "id": "907f810f-8f53-4e21-a757-470059749056",
   "metadata": {},
   "outputs": [
    {
     "data": {
      "text/plain": [
       "title          0\n",
       "selftext     684\n",
       "author         7\n",
       "id             0\n",
       "score          0\n",
       "comments       0\n",
       "link           0\n",
       "subreddit      0\n",
       "created        0\n",
       "dtype: int64"
      ]
     },
     "execution_count": 11,
     "metadata": {},
     "output_type": "execute_result"
    }
   ],
   "source": [
    "# Checking for null values\n",
    "dm.isnull().sum()"
   ]
  },
  {
   "cell_type": "code",
   "execution_count": 12,
   "id": "5a354c61-6271-473f-b828-205a24135b24",
   "metadata": {},
   "outputs": [
    {
     "data": {
      "text/plain": [
       "title          0\n",
       "selftext     336\n",
       "author        16\n",
       "id             0\n",
       "score          0\n",
       "comments       0\n",
       "link           0\n",
       "subreddit      0\n",
       "created        0\n",
       "dtype: int64"
      ]
     },
     "execution_count": 12,
     "metadata": {},
     "output_type": "execute_result"
    }
   ],
   "source": [
    "of.isnull().sum()"
   ]
  },
  {
   "cell_type": "markdown",
   "id": "b715b2fc-9d6e-4770-a3df-1e1488f1129a",
   "metadata": {},
   "source": [
    "#### Post body without text"
   ]
  },
  {
   "cell_type": "code",
   "execution_count": 13,
   "id": "759f7264-8b25-4f9e-887f-8208baed5fcc",
   "metadata": {},
   "outputs": [
    {
     "data": {
      "text/plain": [
       "True     0.688822\n",
       "False    0.311178\n",
       "Name: selftext, dtype: float64"
      ]
     },
     "execution_count": 13,
     "metadata": {},
     "output_type": "execute_result"
    }
   ],
   "source": [
    "dm.selftext.isnull().value_counts(normalize = True)"
   ]
  },
  {
   "cell_type": "code",
   "execution_count": 14,
   "id": "17108a1c-4bee-4e26-8faa-d2bbd91324e7",
   "metadata": {
    "tags": []
   },
   "outputs": [
    {
     "data": {
      "text/plain": [
       "False    0.576293\n",
       "True     0.423707\n",
       "Name: selftext, dtype: float64"
      ]
     },
     "execution_count": 14,
     "metadata": {},
     "output_type": "execute_result"
    }
   ],
   "source": [
    "of.selftext.isnull().value_counts(normalize = True)"
   ]
  },
  {
   "cell_type": "markdown",
   "id": "aceca27f-740d-4642-ac4b-97c5658c3449",
   "metadata": {},
   "source": [
    "r/office has 42% of posts without text body, whereas r/DunferMifflin has more: 69%."
   ]
  },
  {
   "cell_type": "markdown",
   "id": "547c5345-6138-426f-ba5c-7b74f20bc1bf",
   "metadata": {},
   "source": [
    "#### Most active content generators"
   ]
  },
  {
   "cell_type": "code",
   "execution_count": 15,
   "id": "c300a7e6-20b6-4fda-bcd8-1812d8ab3d9a",
   "metadata": {},
   "outputs": [
    {
     "data": {
      "text/plain": [
       "Zyeta                  68\n",
       "Remote-Virus-5547      22\n",
       "daslawdawg             11\n",
       "94sud                   9\n",
       "RolandMT32              9\n",
       "Odd-Bluebird2523        9\n",
       "mahtabpowerpoint        8\n",
       "dandy-2902              8\n",
       "indiaartndesign         6\n",
       "thumbsdrivesmecrazy     4\n",
       "Name: author, dtype: int64"
      ]
     },
     "execution_count": 15,
     "metadata": {},
     "output_type": "execute_result"
    }
   ],
   "source": [
    "of.author.value_counts().head(10)"
   ]
  },
  {
   "cell_type": "code",
   "execution_count": 16,
   "id": "f2ce91ea-3c6f-4227-9009-1bad86a5c11d",
   "metadata": {},
   "outputs": [
    {
     "data": {
      "text/plain": [
       "Mysterious-Face-8272    8\n",
       "themediocrekid          5\n",
       "Cool_Value1204          5\n",
       "nikes-                  5\n",
       "KingKrush8282           5\n",
       "HopScotchyScotch        4\n",
       "Jim_Morrison27          4\n",
       "New-Engineering1483     4\n",
       "ElfHaze                 4\n",
       "Traditional-Bag-6001    4\n",
       "Name: author, dtype: int64"
      ]
     },
     "execution_count": 16,
     "metadata": {},
     "output_type": "execute_result"
    }
   ],
   "source": [
    "dm.author.value_counts().head(10)"
   ]
  },
  {
   "cell_type": "markdown",
   "id": "0619fa85-5211-4c6a-ab8c-08c4f6748278",
   "metadata": {},
   "source": [
    "r/office subreddit has several authors that made a lot of posts over time, when r/DunderMifflin is more disperse authorwise."
   ]
  },
  {
   "cell_type": "markdown",
   "id": "04dafd6f-127e-4ad2-86b3-3adb0c220f34",
   "metadata": {},
   "source": [
    "#### Posts popularity "
   ]
  },
  {
   "cell_type": "code",
   "execution_count": 17,
   "id": "81272ea6-72fb-4d1b-9e1b-27ee0f1f311c",
   "metadata": {},
   "outputs": [
    {
     "data": {
      "text/plain": [
       "count    793.000000\n",
       "mean       2.711223\n",
       "std        4.052196\n",
       "min        0.000000\n",
       "25%        1.000000\n",
       "50%        2.000000\n",
       "75%        3.000000\n",
       "max       41.000000\n",
       "Name: score, dtype: float64"
      ]
     },
     "execution_count": 17,
     "metadata": {},
     "output_type": "execute_result"
    }
   ],
   "source": [
    "of['score'].describe()"
   ]
  },
  {
   "cell_type": "code",
   "execution_count": 18,
   "id": "6c46b0b5-e380-47a5-9537-64cc1d75efcb",
   "metadata": {},
   "outputs": [
    {
     "data": {
      "text/plain": [
       "count      993.000000\n",
       "mean       474.023162\n",
       "std       2000.869037\n",
       "min          0.000000\n",
       "25%          2.000000\n",
       "50%         14.000000\n",
       "75%         91.000000\n",
       "max      29513.000000\n",
       "Name: score, dtype: float64"
      ]
     },
     "execution_count": 18,
     "metadata": {},
     "output_type": "execute_result"
    }
   ],
   "source": [
    "dm['score'].describe()"
   ]
  },
  {
   "cell_type": "code",
   "execution_count": 19,
   "id": "e9716e74-057c-46ae-b376-444245ced072",
   "metadata": {},
   "outputs": [
    {
     "data": {
      "image/png": "[encoded data removed]",
      "text/plain": [
       "<Figure size 1080x504 with 1 Axes>"
      ]
     },
     "metadata": {
      "needs_background": "light"
     },
     "output_type": "display_data"
    }
   ],
   "source": [
    "plt.figure(figsize=(15,7))\n",
    "sns.histplot(of['score'], color = c2, binwidth = 1)\n",
    "plt.title('Post Scores for r/office');"
   ]
  },
  {
   "cell_type": "code",
   "execution_count": 20,
   "id": "c1c072b3-d36c-4fba-8b76-a98221c6cf21",
   "metadata": {},
   "outputs": [
    {
     "data": {
      "image/png": "[encoded data removed]",
      "text/plain": [
       "<Figure size 1080x504 with 1 Axes>"
      ]
     },
     "metadata": {
      "needs_background": "light"
     },
     "output_type": "display_data"
    }
   ],
   "source": [
    "plt.figure(figsize=(15,7))\n",
    "sns.histplot(dm['score'], color = c1, binwidth=10)\n",
    "plt.title('Post Scores for r/DunderMifflin')\n",
    "plt.xlim(-20, 500); # There are large score values like 30_000, so I cropped them off to look at the main part of distribution better"
   ]
  },
  {
   "cell_type": "code",
   "execution_count": 21,
   "id": "60d7247f-81fa-41d8-9fe7-7eb2449bda08",
   "metadata": {},
   "outputs": [
    {
     "data": {
      "image/png": "[encoded data removed]",
      "text/plain": [
       "<Figure size 2160x288 with 1 Axes>"
      ]
     },
     "metadata": {
      "needs_background": "light"
     },
     "output_type": "display_data"
    }
   ],
   "source": [
    "# Looking at the whole range of posts scores\n",
    "plt.figure(figsize=(30,4))\n",
    "sns.boxplot(x = dm['score'], color = c1);"
   ]
  },
  {
   "cell_type": "code",
   "execution_count": 22,
   "id": "114440a6-ba02-4ad3-b179-1a5f820ac354",
   "metadata": {},
   "outputs": [
    {
     "data": {
      "text/html": [
       "<div>\n",
       "<style scoped>\n",
       "    .dataframe tbody tr th:only-of-type {\n",
       "        vertical-align: middle;\n",
       "    }\n",
       "\n",
       "    .dataframe tbody tr th {\n",
       "        vertical-align: top;\n",
       "    }\n",
       "\n",
       "    .dataframe thead th {\n",
       "        text-align: right;\n",
       "    }\n",
       "</style>\n",
       "<table border=\"1\" class=\"dataframe\">\n",
       "  <thead>\n",
       "    <tr style=\"text-align: right;\">\n",
       "      <th></th>\n",
       "      <th>title</th>\n",
       "      <th>selftext</th>\n",
       "      <th>author</th>\n",
       "      <th>id</th>\n",
       "      <th>score</th>\n",
       "      <th>comments</th>\n",
       "      <th>link</th>\n",
       "      <th>subreddit</th>\n",
       "      <th>created</th>\n",
       "    </tr>\n",
       "  </thead>\n",
       "  <tbody>\n",
       "    <tr>\n",
       "      <th>455</th>\n",
       "      <td>Is this supposed to be the hole that Andy punc...</td>\n",
       "      <td>NaN</td>\n",
       "      <td>Jacagain</td>\n",
       "      <td>1070dfh</td>\n",
       "      <td>29513</td>\n",
       "      <td>586</td>\n",
       "      <td>https://i.redd.it/sfyftz9dmyaa1.png</td>\n",
       "      <td>DunderMifflin</td>\n",
       "      <td>2023-01-09 01:13:32</td>\n",
       "    </tr>\n",
       "  </tbody>\n",
       "</table>\n",
       "</div>"
      ],
      "text/plain": [
       "                                                 title selftext    author  \\\n",
       "455  Is this supposed to be the hole that Andy punc...      NaN  Jacagain   \n",
       "\n",
       "          id  score  comments                                 link  \\\n",
       "455  1070dfh  29513       586  https://i.redd.it/sfyftz9dmyaa1.png   \n",
       "\n",
       "         subreddit             created  \n",
       "455  DunderMifflin 2023-01-09 01:13:32  "
      ]
     },
     "execution_count": 22,
     "metadata": {},
     "output_type": "execute_result"
    }
   ],
   "source": [
    "# Checking out the post with the highest score\n",
    "dm[dm['score']==29513]"
   ]
  },
  {
   "cell_type": "code",
   "execution_count": 23,
   "id": "5f85b52a-ed23-4a8c-b5d7-7eef52cecae0",
   "metadata": {},
   "outputs": [],
   "source": [
    "# Oh it's about 'The Office' lego! I've just got one for myself today, can't wait to have more time on my hands to start building The Office!"
   ]
  },
  {
   "cell_type": "code",
   "execution_count": 24,
   "id": "cfcbb0e0-ff4a-4c4e-a110-3f4804d663e4",
   "metadata": {},
   "outputs": [
    {
     "data": {
      "text/plain": [
       "1    0.319042\n",
       "2    0.209332\n",
       "0    0.171501\n",
       "3    0.107188\n",
       "5    0.037831\n",
       "Name: score, dtype: float64"
      ]
     },
     "execution_count": 24,
     "metadata": {},
     "output_type": "execute_result"
    }
   ],
   "source": [
    "# Looking at most frequent posts scores\n",
    "of['score'].sort_values().value_counts(normalize=True).head(5)"
   ]
  },
  {
   "cell_type": "code",
   "execution_count": 25,
   "id": "59ba4e1b-b717-4ad8-8197-1ddf3064afd9",
   "metadata": {
    "tags": []
   },
   "outputs": [
    {
     "data": {
      "text/plain": [
       "0    0.143001\n",
       "2    0.056395\n",
       "1    0.051360\n",
       "3    0.039275\n",
       "5    0.038268\n",
       "Name: score, dtype: float64"
      ]
     },
     "execution_count": 25,
     "metadata": {},
     "output_type": "execute_result"
    }
   ],
   "source": [
    "dm['score'].sort_values().value_counts(normalize=True).head(5)"
   ]
  },
  {
   "cell_type": "code",
   "execution_count": 26,
   "id": "56e7316f-7b39-4ab7-bb57-cd6d05ff4382",
   "metadata": {},
   "outputs": [
    {
     "name": "stdout",
     "output_type": "stream",
     "text": [
      "r/office scores: median = 2.0, mode = 0    1\n",
      "Name: score, dtype: int64\n",
      "r/DunderMifflin scores: median = 14.0, mode = 0    0\n",
      "Name: score, dtype: int64\n"
     ]
    }
   ],
   "source": [
    "print(f'r/office scores: median = {of.score.median()}, mode = {of.score.mode()}');\n",
    "print(f'r/DunderMifflin scores: median = {dm.score.median()}, mode = {dm.score.mode()}');"
   ]
  },
  {
   "cell_type": "markdown",
   "id": "f31fa00a-f3b4-40de-ad2d-0c1ea882a815",
   "metadata": {
    "tags": []
   },
   "source": [
    "r/DunderMifflin has bigger range of post scores up to 29_513 versus 0-41 for r/office, likely because the community itself is more popular. On another hand, subreddits share something in common here: the majority of posts has low scores like 0-3.  \n",
    "Let's look at comments.\n"
   ]
  },
  {
   "cell_type": "code",
   "execution_count": 27,
   "id": "f7fc4939-36ae-4f3e-8fd0-b402eb8f8afc",
   "metadata": {},
   "outputs": [
    {
     "data": {
      "text/plain": [
       "count    793.000000\n",
       "mean       1.940731\n",
       "std        2.944824\n",
       "min        0.000000\n",
       "25%        0.000000\n",
       "50%        1.000000\n",
       "75%        3.000000\n",
       "max       18.000000\n",
       "Name: comments, dtype: float64"
      ]
     },
     "execution_count": 27,
     "metadata": {},
     "output_type": "execute_result"
    }
   ],
   "source": [
    "of['comments'].describe()"
   ]
  },
  {
   "cell_type": "code",
   "execution_count": 28,
   "id": "6f58f90c-be21-44fa-aabf-e4f4650a3742",
   "metadata": {},
   "outputs": [
    {
     "data": {
      "text/plain": [
       "count     993.000000\n",
       "mean       31.151057\n",
       "std        79.590328\n",
       "min         0.000000\n",
       "25%         4.000000\n",
       "50%         8.000000\n",
       "75%        20.000000\n",
       "max      1004.000000\n",
       "Name: comments, dtype: float64"
      ]
     },
     "execution_count": 28,
     "metadata": {},
     "output_type": "execute_result"
    }
   ],
   "source": [
    "dm['comments'].describe()"
   ]
  },
  {
   "cell_type": "code",
   "execution_count": 29,
   "id": "d660f683-9bf8-4e79-9fab-ad473ce59f75",
   "metadata": {},
   "outputs": [
    {
     "data": {
      "text/plain": [
       "0    0.451450\n",
       "1    0.162673\n",
       "2    0.118537\n",
       "4    0.070618\n",
       "3    0.066835\n",
       "Name: comments, dtype: float64"
      ]
     },
     "execution_count": 29,
     "metadata": {},
     "output_type": "execute_result"
    }
   ],
   "source": [
    "of['comments'].sort_values().value_counts(normalize = True).head()"
   ]
  },
  {
   "cell_type": "code",
   "execution_count": 30,
   "id": "968a5109-0826-41bc-bd8b-c892485952c1",
   "metadata": {},
   "outputs": [
    {
     "data": {
      "text/plain": [
       "3    0.078550\n",
       "2    0.077543\n",
       "4    0.076536\n",
       "1    0.069486\n",
       "5    0.062437\n",
       "Name: comments, dtype: float64"
      ]
     },
     "execution_count": 30,
     "metadata": {},
     "output_type": "execute_result"
    }
   ],
   "source": [
    "dm['comments'].sort_values().value_counts(normalize=True).head()"
   ]
  },
  {
   "cell_type": "code",
   "execution_count": 31,
   "id": "e0902107-b439-4ee0-8df7-41c1b5cab891",
   "metadata": {},
   "outputs": [
    {
     "name": "stdout",
     "output_type": "stream",
     "text": [
      "r/office scores: median = 1.0, mode = 0    0\n",
      "Name: comments, dtype: int64\n",
      "r/DunderMifflin scores: median = 8.0, mode = 0    3\n",
      "Name: comments, dtype: int64\n"
     ]
    }
   ],
   "source": [
    "print(f'r/office scores: median = {of.comments.median()}, mode = {of.comments.mode()}');\n",
    "print(f'r/DunderMifflin scores: median = {dm.comments.median()}, mode = {dm.comments.mode()}');"
   ]
  },
  {
   "cell_type": "markdown",
   "id": "203543bb-5a11-410b-b7fe-7d746f5fb9ca",
   "metadata": {},
   "source": [
    "Average number of comments is significantly bigger for r/DunderMifflin: \n",
    "* average: 31 vs 2\n",
    "* median: 8 vs 1\n",
    "* most frequent number of comments: 3 vs 0\n",
    "\n",
    "These numbers support the assumption that r/DunderMifflin is in general more popular subreddit compared to r/office."
   ]
  },
  {
   "cell_type": "markdown",
   "id": "58dd2e74-26ed-4375-9ccf-092941e629da",
   "metadata": {},
   "source": [
    "### Data Cleaning\n",
    "1. Removing columns that won't participate in NLP\n",
    "1. Joining dataframes\n",
    "3. Replacing NaNs with empty strings\n",
    "2. Merging title and body columns\n",
    "1. Removing special characters\n"
   ]
  },
  {
   "cell_type": "code",
   "execution_count": 32,
   "id": "8887b158-1661-4bda-a131-c5c5a19461ba",
   "metadata": {},
   "outputs": [],
   "source": [
    "# Removing everything except text and subreddit\n",
    "of.drop(columns = ['author', 'id', 'score', 'comments', 'link', 'created'], inplace = True)\n",
    "dm.drop(columns = ['author', 'id', 'score', 'comments', 'link', 'created'], inplace = True)"
   ]
  },
  {
   "cell_type": "code",
   "execution_count": 33,
   "id": "a107c0ab-7cc4-4851-976f-c3a2eaa49d09",
   "metadata": {},
   "outputs": [],
   "source": [
    "# Merging posts into one Data Frame\n",
    "df = pd.concat([of, dm])"
   ]
  },
  {
   "cell_type": "code",
   "execution_count": 34,
   "id": "db72fd86-c38a-4c9a-9b97-7b008c11cf47",
   "metadata": {},
   "outputs": [],
   "source": [
    "# Replacing NaN with empty strings\n",
    "df['selftext'].fillna('', inplace = True)"
   ]
  },
  {
   "cell_type": "code",
   "execution_count": 35,
   "id": "0bd0d949-3a1a-4095-a92c-8b3e94b0773e",
   "metadata": {
    "tags": []
   },
   "outputs": [],
   "source": [
    "# Merging title and body into single column\n",
    "df['text'] = df['title'] + ' ' + df['selftext']"
   ]
  },
  {
   "cell_type": "code",
   "execution_count": 36,
   "id": "74f4ab3a-1093-4a85-85f9-5479363388b4",
   "metadata": {},
   "outputs": [
    {
     "data": {
      "text/html": [
       "<div>\n",
       "<style scoped>\n",
       "    .dataframe tbody tr th:only-of-type {\n",
       "        vertical-align: middle;\n",
       "    }\n",
       "\n",
       "    .dataframe tbody tr th {\n",
       "        vertical-align: top;\n",
       "    }\n",
       "\n",
       "    .dataframe thead th {\n",
       "        text-align: right;\n",
       "    }\n",
       "</style>\n",
       "<table border=\"1\" class=\"dataframe\">\n",
       "  <thead>\n",
       "    <tr style=\"text-align: right;\">\n",
       "      <th></th>\n",
       "      <th>subreddit</th>\n",
       "      <th>text</th>\n",
       "    </tr>\n",
       "  </thead>\n",
       "  <tbody>\n",
       "    <tr>\n",
       "      <th>0</th>\n",
       "      <td>office</td>\n",
       "      <td>Friend or just a colleague Hi is it just my co...</td>\n",
       "    </tr>\n",
       "    <tr>\n",
       "      <th>1</th>\n",
       "      <td>office</td>\n",
       "      <td>Printer systems Good morning. \\n\\nI'm looking ...</td>\n",
       "    </tr>\n",
       "    <tr>\n",
       "      <th>2</th>\n",
       "      <td>office</td>\n",
       "      <td>What Would You Do? Hello everyone!\\n\\nFirst ti...</td>\n",
       "    </tr>\n",
       "    <tr>\n",
       "      <th>3</th>\n",
       "      <td>office</td>\n",
       "      <td>attention yo! I don't want to go to office for...</td>\n",
       "    </tr>\n",
       "    <tr>\n",
       "      <th>4</th>\n",
       "      <td>office</td>\n",
       "      <td>Do you have any office-related wisdom to share...</td>\n",
       "    </tr>\n",
       "  </tbody>\n",
       "</table>\n",
       "</div>"
      ],
      "text/plain": [
       "  subreddit                                               text\n",
       "0    office  Friend or just a colleague Hi is it just my co...\n",
       "1    office  Printer systems Good morning. \\n\\nI'm looking ...\n",
       "2    office  What Would You Do? Hello everyone!\\n\\nFirst ti...\n",
       "3    office  attention yo! I don't want to go to office for...\n",
       "4    office  Do you have any office-related wisdom to share..."
      ]
     },
     "execution_count": 36,
     "metadata": {},
     "output_type": "execute_result"
    }
   ],
   "source": [
    "# Removing original text columns\n",
    "df.drop(columns = ['title', 'selftext'], inplace = True)\n",
    "df.head()"
   ]
  },
  {
   "cell_type": "markdown",
   "id": "e24af08d-6b5d-4e7a-a7f3-cac355758c16",
   "metadata": {},
   "source": [
    "### Advanced Cleaning / Preprocessing\n",
    "After doing NLP EDA, I've realized there are a lot of words, bigrams and trigrams generated from vectorized links, so I'm going to remove links. They might be potentially useful for post classification, but I think that it's no fair for the *natural* language processing.\n",
    "Also, I'm going to remove some of the special characters, that are used for text formatting."
   ]
  },
  {
   "cell_type": "code",
   "execution_count": 37,
   "id": "9e20e3e6-fd3e-45b2-901c-d5bfd83126db",
   "metadata": {},
   "outputs": [
    {
     "data": {
      "text/plain": [
       "\"How to create a happy workplace? &#x200B;\\n\\nhttps://preview.redd.it/98ba4z61009a1.png?width=954&format=png&auto=webp&v=enabled&s=6648926f5c79fd4a262ef08fce0ef9728ec64dc0\\n\\nDid you know that 59% of the Indian workforce is unhappy with their workplace?\\n\\nLet's look at the factors that contribute to this statistic. They include\\n\\n* **Basic needs**\\\\- In addition to salary, employees require support in terms of healthcare, insurance, etc. Employees tend to be unhappy or dissatisfied when such needs are unmet. \\n* **Autonomy**\\\\- Unhealthy power dynamics and exploitative relationships lead to unmotivated employees. \\n* **Mastery**\\\\- A work environment that does not provide the resources or environment for employees to learn and grow leads to a decline in motivation or interest to persist. \\n* **Belonging**\\\\- Lack of community or comradery within the workplace can make employees feel disconnected and lead to increased absenteeism. \\n\\nNow you may have heard about the workplace culture at companies like Google and Microsoft. They are known to create a safe, comfortable, and engaging environment for their employees. There are various benefits associated with a happy workplace. For instance, happy employees are great assets to the company as it leads to improvement in productivity, professionalism, and commitment. Further, the workplace motivates employees to go above and beyond as they perceive the organization's success as their own. Finally, there is a sense of belongingness and a strong community that forms as a result of a cooperative and safe workplace.\""
      ]
     },
     "execution_count": 37,
     "metadata": {},
     "output_type": "execute_result"
    }
   ],
   "source": [
    "# Looking at posts with links\n",
    "df.text[df['text'].str.contains('https')][21]"
   ]
  },
  {
   "cell_type": "code",
   "execution_count": 38,
   "id": "f44167d1-ec0e-491d-8035-57c519e831a7",
   "metadata": {
    "tags": []
   },
   "outputs": [],
   "source": [
    "# Removing /n\n",
    "df['text'] = df['text'].str.replace('\\n','')\n",
    "\n",
    "# Removing &#x200B;\n",
    "df['text'] = df['text'].str.replace('&#x200B;','')\n",
    "\n",
    "# Removing links, but before that adding a whitespace to the end of every post so links in the end are detected as well\n",
    "df['text'] = df['text'] + ' '\n",
    "df['text'] = df['text'].str.replace(r'https\\S+\\s', ' ', regex=True)"
   ]
  },
  {
   "cell_type": "code",
   "execution_count": 39,
   "id": "10f0704e-72c9-45df-888f-cfaf63918e24",
   "metadata": {},
   "outputs": [
    {
     "data": {
      "text/plain": [
       "\"How to create a happy workplace?  you know that 59% of the Indian workforce is unhappy with their workplace?Let's look at the factors that contribute to this statistic. They include* **Basic needs**\\\\- In addition to salary, employees require support in terms of healthcare, insurance, etc. Employees tend to be unhappy or dissatisfied when such needs are unmet. * **Autonomy**\\\\- Unhealthy power dynamics and exploitative relationships lead to unmotivated employees. * **Mastery**\\\\- A work environment that does not provide the resources or environment for employees to learn and grow leads to a decline in motivation or interest to persist. * **Belonging**\\\\- Lack of community or comradery within the workplace can make employees feel disconnected and lead to increased absenteeism. Now you may have heard about the workplace culture at companies like Google and Microsoft. They are known to create a safe, comfortable, and engaging environment for their employees. There are various benefits associated with a happy workplace. For instance, happy employees are great assets to the company as it leads to improvement in productivity, professionalism, and commitment. Further, the workplace motivates employees to go above and beyond as they perceive the organization's success as their own. Finally, there is a sense of belongingness and a strong community that forms as a result of a cooperative and safe workplace. \""
      ]
     },
     "execution_count": 39,
     "metadata": {},
     "output_type": "execute_result"
    }
   ],
   "source": [
    "# Checking result\n",
    "df.text[df['text'].str.contains('How to create a happy workplace?')][21]"
   ]
  },
  {
   "cell_type": "code",
   "execution_count": 40,
   "id": "0d6de42d-414e-4f5f-908c-56ba95be7902",
   "metadata": {},
   "outputs": [],
   "source": [
    "# Looks good, but I would remove special characters like * or \\\\ as well\n",
    "df['text'] = df['text'].str.replace('\\\\','', regex = False)\n",
    "df['text'] = df['text'].str.replace('*','', regex = False)"
   ]
  },
  {
   "cell_type": "code",
   "execution_count": 56,
   "id": "06e9593f-5192-498b-af68-9f9b4f11115d",
   "metadata": {},
   "outputs": [],
   "source": [
    "# Saving cleaned data\n",
    "df.to_csv('./data/data_cleaned.csv', index = False)"
   ]
  }
 ],
 "metadata": {
  "kernelspec": {
   "display_name": "Python 3 (ipykernel)",
   "language": "python",
   "name": "python3"
  },
  "language_info": {
   "codemirror_mode": {
    "name": "ipython",
    "version": 3
   },
   "file_extension": ".py",
   "mimetype": "text/x-python",
   "name": "python",
   "nbconvert_exporter": "python",
   "pygments_lexer": "ipython3",
   "version": "3.9.12"
  }
 },
 "nbformat": 4,
 "nbformat_minor": 5
}
